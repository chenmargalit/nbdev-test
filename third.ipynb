{
 "cells": [
  {
   "cell_type": "code",
   "execution_count": null,
   "id": "14213c4d",
   "metadata": {},
   "outputs": [],
   "source": [
    "#| default_exp dataLoader/csv"
   ]
  },
  {
   "cell_type": "code",
   "execution_count": null,
   "id": "04ef351a",
   "metadata": {},
   "outputs": [],
   "source": [
    "#| export \n",
    "def get_csv(): print('get csv')"
   ]
  },
  {
   "cell_type": "code",
   "execution_count": null,
   "id": "5b620afb",
   "metadata": {},
   "outputs": [],
   "source": []
  }
 ],
 "metadata": {
  "kernelspec": {
   "display_name": "Python 3 (ipykernel)",
   "language": "python",
   "name": "python3"
  }
 },
 "nbformat": 4,
 "nbformat_minor": 5
}
